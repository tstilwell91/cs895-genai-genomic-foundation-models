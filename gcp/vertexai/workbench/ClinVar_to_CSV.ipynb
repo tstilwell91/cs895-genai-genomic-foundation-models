{
 "cells": [
  {
   "cell_type": "code",
   "execution_count": 4,
   "id": "97e9fbdf-40a8-4c51-958f-c5521763c652",
   "metadata": {},
   "outputs": [
    {
     "name": "stdout",
     "output_type": "stream",
     "text": [
      "✅ Finished! CSV written to clinvar_data/vcf_GRCh38/clinvar_20250928.csv\n",
      "✅ Uploaded to gs://instr-cs795-fall25-hqin-1-tstilwel/clinvar/clinvar_20250928.csv\n"
     ]
    }
   ],
   "source": [
    "!pip install -q cyvcf2 pandas google-cloud-storage\n",
    "\n",
    "import pandas as pd\n",
    "from cyvcf2 import VCF\n",
    "from pathlib import Path\n",
    "from google.cloud import storage\n",
    "\n",
    "# --- Paths ---\n",
    "vcf_path = Path(\"clinvar_data/vcf_GRCh38/clinvar_20250928.vcf.gz\")\n",
    "local_csv = Path(\"clinvar_data/vcf_GRCh38/clinvar_20250928.csv\")\n",
    "\n",
    "# --- GCS settings ---\n",
    "PROJECT = \"instr-cs795-fall25-hqin-1\"\n",
    "BUCKET_NAME = \"instr-cs795-fall25-hqin-1-tstilwel\"\n",
    "GCS_BLOB = \"clinvar/clinvar_20250928.csv\"   # path inside bucket\n",
    "\n",
    "# --- INFO fields to keep ---\n",
    "INFO_FIELDS = [\"CLNSIG\", \"CLNREVSTAT\", \"CLNDN\", \"GENEINFO\", \"MC\"]\n",
    "\n",
    "def explode_variant(rec):\n",
    "    base = {\n",
    "        \"chrom\": rec.CHROM,\n",
    "        \"pos\": rec.POS,\n",
    "        \"id\": rec.ID,\n",
    "        \"ref\": rec.REF,\n",
    "        \"qual\": rec.QUAL,\n",
    "        \"filter\": \";\".join(rec.FILTER or []),\n",
    "    }\n",
    "    for f in INFO_FIELDS:\n",
    "        base[f.lower()] = rec.INFO.get(f, None)\n",
    "    rows = []\n",
    "    for alt in rec.ALT or [\"\"]:\n",
    "        r = dict(base)\n",
    "        r[\"alt\"] = alt\n",
    "        rows.append(r)\n",
    "    return rows\n",
    "\n",
    "# --- Convert VCF → CSV ---\n",
    "vcf = VCF(str(vcf_path))\n",
    "buffer, header_written = [], False\n",
    "chunk_size = 200_000\n",
    "\n",
    "with local_csv.open(\"w\", encoding=\"utf-8\") as f:\n",
    "    for rec in vcf:\n",
    "        buffer.extend(explode_variant(rec))\n",
    "        if len(buffer) >= chunk_size:\n",
    "            df = pd.DataFrame(buffer); buffer.clear()\n",
    "            df.to_csv(f, index=False, header=not header_written)\n",
    "            header_written = True\n",
    "    if buffer:\n",
    "        df = pd.DataFrame(buffer)\n",
    "        df.to_csv(f, index=False, header=not header_written)\n",
    "\n",
    "print(f\"✅ Finished! CSV written to {local_csv}\")\n",
    "\n",
    "# --- Upload to GCS ---\n",
    "client = storage.Client(project=PROJECT)\n",
    "bucket = client.bucket(BUCKET_NAME)\n",
    "blob = bucket.blob(GCS_BLOB)\n",
    "blob.upload_from_filename(local_csv)\n",
    "\n",
    "print(f\"✅ Uploaded to gs://{BUCKET_NAME}/{GCS_BLOB}\")"
   ]
  },
  {
   "cell_type": "code",
   "execution_count": null,
   "id": "cb9554ac-1105-45e9-bbd5-99c990e28222",
   "metadata": {},
   "outputs": [],
   "source": []
  }
 ],
 "metadata": {
  "environment": {
   "kernel": "conda-base-py",
   "name": "workbench-notebooks.m133",
   "type": "gcloud",
   "uri": "us-docker.pkg.dev/deeplearning-platform-release/gcr.io/workbench-notebooks:m133"
  },
  "kernelspec": {
   "display_name": "Python 3 (ipykernel) (Local)",
   "language": "python",
   "name": "conda-base-py"
  },
  "language_info": {
   "codemirror_mode": {
    "name": "ipython",
    "version": 3
   },
   "file_extension": ".py",
   "mimetype": "text/x-python",
   "name": "python",
   "nbconvert_exporter": "python",
   "pygments_lexer": "ipython3",
   "version": "3.10.18"
  }
 },
 "nbformat": 4,
 "nbformat_minor": 5
}
