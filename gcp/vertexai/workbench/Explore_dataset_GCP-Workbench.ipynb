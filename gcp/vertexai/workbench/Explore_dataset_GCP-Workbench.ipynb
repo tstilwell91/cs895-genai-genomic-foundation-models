{
 "cells": [
  {
   "cell_type": "code",
   "execution_count": 1,
   "id": "21579ac4-228a-4b0d-aebb-f40f5ff4c70f",
   "metadata": {
    "tags": []
   },
   "outputs": [
    {
     "name": "stdout",
     "output_type": "stream",
     "text": [
      "Requirement already satisfied: cyvcf2 in /opt/conda/lib/python3.10/site-packages (0.31.2)\n",
      "Requirement already satisfied: pyfaidx in /opt/conda/lib/python3.10/site-packages (0.9.0.3)\n",
      "Requirement already satisfied: tqdm in /opt/conda/lib/python3.10/site-packages (4.67.1)\n",
      "Requirement already satisfied: pandas in /opt/conda/lib/python3.10/site-packages (2.3.2)\n",
      "Requirement already satisfied: numpy>=1.16.0 in /opt/conda/lib/python3.10/site-packages (from cyvcf2) (1.26.4)\n",
      "Requirement already satisfied: coloredlogs in /opt/conda/lib/python3.10/site-packages (from cyvcf2) (15.0.1)\n",
      "Requirement already satisfied: click in /opt/conda/lib/python3.10/site-packages (from cyvcf2) (8.1.8)\n",
      "Requirement already satisfied: packaging in /opt/conda/lib/python3.10/site-packages (from pyfaidx) (25.0)\n",
      "Requirement already satisfied: python-dateutil>=2.8.2 in /opt/conda/lib/python3.10/site-packages (from pandas) (2.9.0.post0)\n",
      "Requirement already satisfied: pytz>=2020.1 in /opt/conda/lib/python3.10/site-packages (from pandas) (2025.2)\n",
      "Requirement already satisfied: tzdata>=2022.7 in /opt/conda/lib/python3.10/site-packages (from pandas) (2025.2)\n",
      "Requirement already satisfied: six>=1.5 in /opt/conda/lib/python3.10/site-packages (from python-dateutil>=2.8.2->pandas) (1.17.0)\n",
      "Requirement already satisfied: humanfriendly>=9.1 in /opt/conda/lib/python3.10/site-packages (from coloredlogs->cyvcf2) (10.0)\n",
      "Note: you may need to restart the kernel to use updated packages.\n"
     ]
    }
   ],
   "source": [
    "%pip install cyvcf2 pyfaidx tqdm pandas"
   ]
  },
  {
   "cell_type": "code",
   "execution_count": 2,
   "id": "f9a81672-d2fe-4472-a722-99bb3813b3ab",
   "metadata": {
    "tags": []
   },
   "outputs": [],
   "source": [
    "from cyvcf2 import VCF\n",
    "from pyfaidx import Fasta\n",
    "from tqdm import tqdm\n",
    "import pandas as pd\n",
    "import random\n",
    "import os\n",
    "from collections import Counter, defaultdict"
   ]
  },
  {
   "cell_type": "code",
   "execution_count": 6,
   "id": "e502f060-2b12-4108-8ca1-55facf5f9183",
   "metadata": {
    "tags": []
   },
   "outputs": [
    {
     "name": "stdout",
     "output_type": "stream",
     "text": [
      "Downloading https://ftp.ncbi.nlm.nih.gov/pub/clinvar/vcf_GRCh38/clinvar_20250928.vcf.gz → clinvar_data/vcf_GRCh38/clinvar_20250928.vcf.gz\n",
      "Downloading https://ftp.ncbi.nlm.nih.gov/pub/clinvar/vcf_GRCh38/clinvar_20250928.vcf.gz.tbi → clinvar_data/vcf_GRCh38/clinvar_20250928.vcf.gz.tbi\n",
      "Downloading https://ftp.ncbi.nlm.nih.gov/pub/clinvar/vcf_GRCh38/clinvar_20250928.vcf.gz.md5 → clinvar_data/vcf_GRCh38/clinvar_20250928.vcf.gz.md5\n",
      "MD5 ok for clinvar_20250928.vcf.gz\n",
      "Exists: clinvar_data/refs/GRCh38_gencode/GRCh38.primary_assembly.genome.fa.gz\n",
      "Exists: clinvar_data/refs/GRCh38_gencode/GRCh38.primary_assembly.genome.fa\n",
      "Exists: clinvar_data/refs/GRCh38_gencode/GRCh38.primary_assembly.genome.fa.fai\n",
      "\n",
      "Summary:\n",
      "ClinVar VCF : clinvar_data/vcf_GRCh38/clinvar_20250928.vcf.gz\n",
      "ClinVar TBI : clinvar_data/vcf_GRCh38/clinvar_20250928.vcf.gz.tbi\n",
      "Reference FA: clinvar_data/refs/GRCh38_gencode/GRCh38.primary_assembly.genome.fa\n",
      "FAI index   : clinvar_data/refs/GRCh38_gencode/GRCh38.primary_assembly.genome.fa.fai\n"
     ]
    }
   ],
   "source": [
    "# Download VCF and reference \n",
    "import os, re, gzip, shutil, hashlib, requests\n",
    "from pathlib import Path\n",
    "from pyfaidx import Fasta\n",
    "\n",
    "# ==== Setup base dirs ====\n",
    "BASE = Path(\"./clinvar_data\")\n",
    "VCF_DIR = BASE / \"vcf_GRCh38\"\n",
    "REF_DIR = BASE / \"refs\" / \"GRCh38_gencode\"\n",
    "\n",
    "VCF_DIR.mkdir(parents=True, exist_ok=True)\n",
    "REF_DIR.mkdir(parents=True, exist_ok=True)\n",
    "\n",
    "# ==== Helper functions ====\n",
    "def md5sum(path: Path) -> str:\n",
    "    h = hashlib.md5()\n",
    "    with open(path, \"rb\") as f:\n",
    "        for chunk in iter(lambda: f.read(1 << 20), b\"\"):\n",
    "            h.update(chunk)\n",
    "    return h.hexdigest()\n",
    "\n",
    "def download(url: str, dest: Path, chunk=1<<20):\n",
    "    if dest.exists():\n",
    "        print(f\"Exists: {dest}\")\n",
    "        return\n",
    "    print(f\"Downloading {url} → {dest}\")\n",
    "    with requests.get(url, stream=True, timeout=60) as r:\n",
    "        r.raise_for_status()\n",
    "        with open(dest, \"wb\") as f:\n",
    "            for part in r.iter_content(chunk_size=chunk):\n",
    "                if part:\n",
    "                    f.write(part)\n",
    "\n",
    "# ==== Part 1: ClinVar VCF (GRCh38) ====\n",
    "clinvar_base = \"https://ftp.ncbi.nlm.nih.gov/pub/clinvar/vcf_GRCh38/\"\n",
    "\n",
    "# Fetch directory listing and pick the newest clinvar_YYYYMMDD.vcf.gz\n",
    "html = requests.get(clinvar_base, timeout=60).text\n",
    "candidates = re.findall(r'href=\"(clinvar_(\\d{8})\\.vcf\\.gz)\"', html)\n",
    "assert candidates, \"No clinvar_YYYYMMDD.vcf.gz found at ClinVar FTP.\"\n",
    "latest_name = sorted(candidates, key=lambda x: x[1])[-1][0]\n",
    "\n",
    "vcf_url = clinvar_base + latest_name\n",
    "tbi_url = vcf_url + \".tbi\"\n",
    "md5_url = vcf_url + \".md5\"\n",
    "\n",
    "vcf_path = VCF_DIR / latest_name\n",
    "tbi_path = VCF_DIR / (latest_name + \".tbi\")\n",
    "md5_path = VCF_DIR / (latest_name + \".md5\")\n",
    "\n",
    "download(vcf_url, vcf_path)\n",
    "download(tbi_url, tbi_path)\n",
    "download(md5_url, md5_path)\n",
    "\n",
    "# Verify MD5 (only if we just downloaded the VCF)\n",
    "if vcf_path.exists() and md5_path.exists():\n",
    "    with open(md5_path) as fh:\n",
    "        expected = re.search(r'([0-9a-fA-F]{32})', fh.read()).group(1).lower()\n",
    "    have = md5sum(vcf_path)\n",
    "    if have == expected:\n",
    "        print(f\"MD5 ok for {vcf_path.name}\")\n",
    "    else:\n",
    "        print(f\"Warning: MD5 mismatch {have} != {expected}\")\n",
    "\n",
    "# ==== Part 2: Reference genome (GENCODE GRCh38 primary assembly) ====\n",
    "gencode_base = \"https://ftp.ebi.ac.uk/pub/databases/gencode/Gencode_human/latest_release/\"\n",
    "fasta_name = \"GRCh38.primary_assembly.genome.fa.gz\"\n",
    "fasta_gz_url = gencode_base + fasta_name\n",
    "\n",
    "fasta_gz_path = REF_DIR / fasta_name\n",
    "fasta_path = REF_DIR / \"GRCh38.primary_assembly.genome.fa\"\n",
    "\n",
    "download(fasta_gz_url, fasta_gz_path)\n",
    "\n",
    "# Decompress only if .fa not already present\n",
    "if not fasta_path.exists():\n",
    "    print(f\"Decompressing {fasta_gz_path} → {fasta_path}\")\n",
    "    with gzip.open(fasta_gz_path, \"rb\") as src, open(fasta_path, \"wb\") as dst:\n",
    "        shutil.copyfileobj(src, dst)\n",
    "else:\n",
    "    print(f\"Exists: {fasta_path}\")\n",
    "\n",
    "# Build .fai index if missing\n",
    "if not Path(str(fasta_path) + \".fai\").exists():\n",
    "    print(\"Indexing FASTA with pyfaidx …\")\n",
    "    ref = Fasta(str(fasta_path))\n",
    "    ref.close()\n",
    "else:\n",
    "    print(f\"Exists: {fasta_path}.fai\")\n",
    "\n",
    "# ==== Summary ====\n",
    "print(\"\\nSummary:\")\n",
    "print(f\"ClinVar VCF : {vcf_path}\")\n",
    "print(f\"ClinVar TBI : {tbi_path}\")\n",
    "print(f\"Reference FA: {fasta_path}\")\n",
    "print(f\"FAI index   : {fasta_path}.fai\")"
   ]
  },
  {
   "cell_type": "code",
   "execution_count": 10,
   "id": "3b7d6ce7-8b05-4ca4-813c-44eb5b57979b",
   "metadata": {
    "tags": []
   },
   "outputs": [],
   "source": [
    "# Define paths (Update these!)\n",
    "VCF_PATH = \"./clinvar_data/vcf_GRCh38/clinvar_20250928.vcf.gz\"\n",
    "REFERENCE_FASTA = \"./clinvar_data/refs/GRCh38_gencode/GRCh38.primary_assembly.genome.fa\""
   ]
  },
  {
   "cell_type": "code",
   "execution_count": 11,
   "id": "c53a2ed8-6a53-4d4a-aa4e-368e72c3428a",
   "metadata": {
    "tags": []
   },
   "outputs": [],
   "source": [
    "ref_genome = Fasta(REFERENCE_FASTA) # load ref_genome"
   ]
  },
  {
   "cell_type": "code",
   "execution_count": 12,
   "id": "a715402c-309e-4f73-9eb8-5c2683d549a7",
   "metadata": {
    "tags": []
   },
   "outputs": [],
   "source": [
    "vcf = VCF(VCF_PATH) #load VCF"
   ]
  },
  {
   "cell_type": "markdown",
   "id": "7643af0b-72a7-4b94-a95d-75cb0ea0a173",
   "metadata": {
    "tags": []
   },
   "source": [
    "# Inspect data(VCF)"
   ]
  },
  {
   "cell_type": "code",
   "execution_count": 13,
   "id": "c2489dcc-abe3-4599-a95d-63f0a8e87a3f",
   "metadata": {
    "tags": []
   },
   "outputs": [],
   "source": [
    "def inspect_clinvar_vcf(vcf_path, num_variants=5):\n",
    "    \"\"\"\n",
    "    Specifically inspect ClinVar VCF structure with focus on CLNSIG field\n",
    "    \"\"\"\n",
    "    vcf = VCF(vcf_path)\n",
    "    \n",
    "    print(\"CLINVAR VCF INSPECTION\")\n",
    "    print(\"=\" * 50)\n",
    "    \n",
    "    # Show CLNSIG definition\n",
    "    print(\"\\nCLNSIG FIELD DEFINITION:\")\n",
    "    for line in vcf.raw_header.split('\\n'):\n",
    "        if 'CLNSIG' in line and line.startswith('##INFO'):\n",
    "            print(line)\n",
    "            break\n",
    "    \n",
    "    # Show variants with CLNSIG values\n",
    "    print(f\"\\nFIRST {num_variants} VARIANTS WITH CLNSIG:\")\n",
    "    print(\"-\" * 40)\n",
    "    \n",
    "    count = 0\n",
    "    for variant in vcf:\n",
    "        if count >= num_variants:\n",
    "            break\n",
    "            \n",
    "        clnsig = variant.INFO.get('CLNSIG')\n",
    "        if clnsig:  # Only show variants that have CLNSIG\n",
    "            count += 1\n",
    "            print(f\"\\nVariant {count}:\")\n",
    "            print(f\"  {variant.CHROM}:{variant.POS} {variant.REF}>{','.join(variant.ALT)}\")\n",
    "            print(f\"  CLNSIG: {clnsig}\")\n",
    "            print(f\"  ID: {variant.ID}\")\n",
    "            \n",
    "            # Show other relevant ClinVar fields\n",
    "            for field in ['CLNREVSTAT', 'CLNDN', 'CLNDISDB']:\n",
    "                value = variant.INFO.get(field)\n",
    "                if value:\n",
    "                    print(f\"  {field}: {value}\")\n",
    "            print(\"-\" * 30)\n",
    "    \n",
    "    vcf.close()\n"
   ]
  },
  {
   "cell_type": "code",
   "execution_count": 14,
   "id": "150ae780-5f2b-4061-9c62-eacfcf77e80b",
   "metadata": {
    "tags": []
   },
   "outputs": [
    {
     "name": "stdout",
     "output_type": "stream",
     "text": [
      "CLINVAR VCF INSPECTION\n",
      "==================================================\n",
      "\n",
      "CLNSIG FIELD DEFINITION:\n",
      "##INFO=<ID=CLNSIG,Number=.,Type=String,Description=\"Aggregate germline classification for this single variant; multiple values are separated by a vertical bar\">\n",
      "\n",
      "FIRST 5 VARIANTS WITH CLNSIG:\n",
      "----------------------------------------\n",
      "\n",
      "Variant 1:\n",
      "  1:66926 AG>A\n",
      "  CLNSIG: Uncertain_significance\n",
      "  ID: 3385321\n",
      "  CLNREVSTAT: criteria_provided,_single_submitter\n",
      "  CLNDN: Retinitis_pigmentosa\n",
      "  CLNDISDB: Human_Phenotype_Ontology:HP:0000547,MONDO:MONDO:0019200,MeSH:D012174,MedGen:C0035334,OMIM:268000,OMIM:PS268000,Orphanet:791\n",
      "------------------------------\n",
      "\n",
      "Variant 2:\n",
      "  1:69134 A>G\n",
      "  CLNSIG: Likely_benign\n",
      "  ID: 2205837\n",
      "  CLNREVSTAT: criteria_provided,_single_submitter\n",
      "  CLNDN: not_specified\n",
      "  CLNDISDB: MedGen:CN169374\n",
      "------------------------------\n",
      "\n",
      "Variant 3:\n",
      "  1:69308 A>G\n",
      "  CLNSIG: Uncertain_significance\n",
      "  ID: 3925305\n",
      "  CLNREVSTAT: criteria_provided,_single_submitter\n",
      "  CLNDN: not_specified\n",
      "  CLNDISDB: MedGen:CN169374\n",
      "------------------------------\n",
      "\n",
      "Variant 4:\n",
      "  1:69314 T>G\n",
      "  CLNSIG: Uncertain_significance\n",
      "  ID: 3205580\n",
      "  CLNREVSTAT: criteria_provided,_single_submitter\n",
      "  CLNDN: not_specified\n",
      "  CLNDISDB: MedGen:CN169374\n",
      "------------------------------\n",
      "\n",
      "Variant 5:\n",
      "  1:69404 T>C\n",
      "  CLNSIG: Uncertain_significance\n",
      "  ID: 3925306\n",
      "  CLNREVSTAT: criteria_provided,_single_submitter\n",
      "  CLNDN: not_specified\n",
      "  CLNDISDB: MedGen:CN169374\n",
      "------------------------------\n"
     ]
    }
   ],
   "source": [
    "inspect_clinvar_vcf(VCF_PATH)"
   ]
  },
  {
   "cell_type": "markdown",
   "id": "ade52193-9e50-49f0-96a7-21462af2ede4",
   "metadata": {},
   "source": [
    "# count data"
   ]
  },
  {
   "cell_type": "code",
   "execution_count": 15,
   "id": "5cd2b7c2-ab23-4614-8478-b6b19819f2b4",
   "metadata": {
    "tags": []
   },
   "outputs": [],
   "source": [
    "def count_clinvar_categories(vcf_path):\n",
    "    \"\"\"Count Benign, Pathogenic, and Uncertain variants\"\"\"\n",
    "    vcf = VCF(vcf_path)\n",
    "    \n",
    "    benign = pathogenic = uncertain = other = 0\n",
    "    total_with_clnsig = 0\n",
    "    \n",
    "    for variant in vcf:\n",
    "        clnsig = variant.INFO.get('CLNSIG')\n",
    "        if not clnsig:\n",
    "            continue\n",
    "            \n",
    "        total_with_clnsig += 1\n",
    "        \n",
    "        if 'Benign' in clnsig or 'Likely_benign' in clnsig:\n",
    "            benign += 1\n",
    "        elif 'Pathogenic' in clnsig or 'Likely_pathogenic' in clnsig:\n",
    "            pathogenic += 1\n",
    "        elif 'Uncertain' in clnsig:\n",
    "            uncertain += 1\n",
    "        else:\n",
    "            other += 1\n",
    "    \n",
    "    vcf.close()\n",
    "    \n",
    "    print(\"CLINVAR CATEGORY COUNTS\")\n",
    "    print(\"=\" * 40)\n",
    "    print(f\"Benign/Likely_benign: {benign:,}\")\n",
    "    print(f\"Pathogenic/Likely_pathogenic: {pathogenic:,}\")\n",
    "    print(f\"Uncertain significance: {uncertain:,}\")\n",
    "    print(f\"Other classifications: {other:,}\")\n",
    "    print(f\"Total variants with CLNSIG: {total_with_clnsig:,}\")\n",
    "    \n",
    "    return benign, pathogenic, uncertain, other"
   ]
  },
  {
   "cell_type": "code",
   "execution_count": 16,
   "id": "509c6827-c553-4fcf-aad8-111a18cd49b2",
   "metadata": {
    "tags": []
   },
   "outputs": [
    {
     "name": "stdout",
     "output_type": "stream",
     "text": [
      "CLINVAR CATEGORY COUNTS\n",
      "========================================\n",
      "Benign/Likely_benign: 1,266,985\n",
      "Pathogenic/Likely_pathogenic: 314,746\n",
      "Uncertain significance: 1,940,705\n",
      "Other classifications: 162,423\n",
      "Total variants with CLNSIG: 3,684,859\n"
     ]
    },
    {
     "data": {
      "text/plain": [
       "(1266985, 314746, 1940705, 162423)"
      ]
     },
     "execution_count": 16,
     "metadata": {},
     "output_type": "execute_result"
    }
   ],
   "source": [
    " count_clinvar_categories(VCF_PATH)"
   ]
  },
  {
   "cell_type": "code",
   "execution_count": 17,
   "id": "8125d321-705d-432a-896d-38d57fa8acd6",
   "metadata": {
    "tags": []
   },
   "outputs": [],
   "source": [
    "def count_clinvar_categories_detailed(vcf_path):\n",
    "    \"\"\"Count ClinVar categories with detailed breakdown\"\"\"\n",
    "    vcf = VCF(vcf_path)\n",
    "    \n",
    "    # Detailed counters\n",
    "    categories = {\n",
    "        'Benign': 0,\n",
    "        'Likely_benign': 0,\n",
    "        'Pathogenic': 0,\n",
    "        'Likely_pathogenic': 0,\n",
    "        'Uncertain_significance': 0,\n",
    "        'Conflicting_interpretations': 0,\n",
    "        'Risk_factor': 0,\n",
    "        'Drug_response': 0,\n",
    "        'Affects': 0,\n",
    "        'Protective': 0,\n",
    "        'Association': 0,\n",
    "        'Other': 0,\n",
    "        'No_CLNSIG': 0\n",
    "    }\n",
    "    \n",
    "    total_variants = 0\n",
    "    total_with_clnsig = 0\n",
    "    \n",
    "    for variant in vcf:\n",
    "        total_variants += 1\n",
    "        clnsig = variant.INFO.get('CLNSIG')\n",
    "        \n",
    "        if not clnsig:\n",
    "            categories['No_CLNSIG'] += 1\n",
    "            continue\n",
    "            \n",
    "        total_with_clnsig += 1\n",
    "        clnsig_str = str(clnsig)\n",
    "        \n",
    "        # Handle multiple classifications separated by |\n",
    "        classifications = clnsig_str.split('|') if '|' in clnsig_str else [clnsig_str]\n",
    "        \n",
    "        found_category = False\n",
    "        for classification in classifications:\n",
    "            classification = classification.strip()\n",
    "            \n",
    "            if classification == 'Benign':\n",
    "                categories['Benign'] += 1\n",
    "                found_category = True\n",
    "            elif classification == 'Likely_benign':\n",
    "                categories['Likely_benign'] += 1\n",
    "                found_category = True\n",
    "            elif classification == 'Pathogenic':\n",
    "                categories['Pathogenic'] += 1\n",
    "                found_category = True\n",
    "            elif classification == 'Likely_pathogenic':\n",
    "                categories['Likely_pathogenic'] += 1\n",
    "                found_category = True\n",
    "            elif classification == 'Uncertain_significance':\n",
    "                categories['Uncertain_significance'] += 1\n",
    "                found_category = True\n",
    "            elif 'Conflicting' in classification:\n",
    "                categories['Conflicting_interpretations'] += 1\n",
    "                found_category = True\n",
    "            elif 'Risk_factor' in classification:\n",
    "                categories['Risk_factor'] += 1\n",
    "                found_category = True\n",
    "            elif 'Drug_response' in classification:\n",
    "                categories['Drug_response'] += 1\n",
    "                found_category = True\n",
    "            elif classification == 'Affects':\n",
    "                categories['Affects'] += 1\n",
    "                found_category = True\n",
    "            elif classification == 'Protective':\n",
    "                categories['Protective'] += 1\n",
    "                found_category = True\n",
    "            elif classification == 'Association':\n",
    "                categories['Association'] += 1\n",
    "                found_category = True\n",
    "        \n",
    "        if not found_category:\n",
    "            categories['Other'] += 1\n",
    "    \n",
    "    vcf.close()\n",
    "    \n",
    "    # Print detailed breakdown\n",
    "    print(\"DETAILED CLINVAR CATEGORY COUNTS\")\n",
    "    print(\"=\" * 50)\n",
    "    print(f\"Total variants: {total_variants:,}\")\n",
    "    print(f\"Variants with CLNSIG: {total_with_clnsig:,}\")\n",
    "    print(f\"Variants without CLNSIG: {categories['No_CLNSIG']:,}\")\n",
    "    print()\n",
    "    \n",
    "    # Main categories\n",
    "    print(\"MAIN CLASSIFICATIONS:\")\n",
    "    print(\"-\" * 30)\n",
    "    benign_total = categories['Benign'] + categories['Likely_benign']\n",
    "    pathogenic_total = categories['Pathogenic'] + categories['Likely_pathogenic']\n",
    "    \n",
    "    print(f\"Benign + Likely_benign: {benign_total:,}\")\n",
    "    print(f\"  Benign: {categories['Benign']:,}\")\n",
    "    print(f\"  Likely_benign: {categories['Likely_benign']:,}\")\n",
    "    \n",
    "    print(f\"Pathogenic + Likely_pathogenic: {pathogenic_total:,}\")\n",
    "    print(f\"  Pathogenic: {categories['Pathogenic']:,}\")\n",
    "    print(f\"  Likely_pathogenic: {categories['Likely_pathogenic']:,}\")\n",
    "    \n",
    "    print(f\"Uncertain_significance: {categories['Uncertain_significance']:,}\")\n",
    "    print()\n",
    "    \n",
    "    # Other categories\n",
    "    print(\"OTHER CLASSIFICATIONS:\")\n",
    "    print(\"-\" * 30)\n",
    "    other_categories = ['Conflicting_interpretations', 'Risk_factor', 'Drug_response', \n",
    "                       'Affects', 'Protective', 'Association', 'Other']\n",
    "    \n",
    "    for category in other_categories:\n",
    "        if categories[category] > 0:\n",
    "            percentage = (categories[category] / total_with_clnsig) * 100\n",
    "            print(f\"{category}: {categories[category]:,} ({percentage:.1f}%)\")\n",
    "    \n",
    "    return categories\n",
    "\n",
    "# More advanced version that discovers all unique CLNSIG values automatically\n",
    "def discover_all_clnsig_values(vcf_path, max_variants=50000):\n",
    "    \"\"\"Discover all unique CLNSIG values in the VCF\"\"\"\n",
    "    vcf = VCF(vcf_path)\n",
    "    \n",
    "    unique_clnsig = set()\n",
    "    clnsig_counter = Counter()\n",
    "    \n",
    "    for i, variant in enumerate(vcf):\n",
    "        if i >= max_variants and max_variants > 0:\n",
    "            break\n",
    "            \n",
    "        clnsig = variant.INFO.get('CLNSIG')\n",
    "        if clnsig:\n",
    "            # Handle multiple values\n",
    "            if '|' in clnsig:\n",
    "                for sig in clnsig.split('|'):\n",
    "                    unique_clnsig.add(sig.strip())\n",
    "                    clnsig_counter[sig.strip()] += 1\n",
    "            else:\n",
    "                unique_clnsig.add(clnsig.strip())\n",
    "                clnsig_counter[clnsig.strip()] += 1\n",
    "    \n",
    "    vcf.close()\n",
    "    \n",
    "    print(\"ALL UNIQUE CLNSIG VALUES FOUND:\")\n",
    "    print(\"=\" * 40)\n",
    "    for clnsig in sorted(unique_clnsig):\n",
    "        count = clnsig_counter[clnsig]\n",
    "        print(f\"'{clnsig}': {count:,} variants\")\n",
    "    \n",
    "    return unique_clnsig, clnsig_counter\n",
    "\n",
    "# Simple version for just the main categories you asked for\n",
    "def count_main_categories_separate(vcf_path):\n",
    "    \"\"\"Count main ClinVar categories separately\"\"\"\n",
    "    vcf = VCF(vcf_path)\n",
    "    \n",
    "    counts = {\n",
    "        'Benign': 0,\n",
    "        'Likely_benign': 0,\n",
    "        'Pathogenic': 0,\n",
    "        'Likely_pathogenic': 0,\n",
    "        'Uncertain_significance': 0,\n",
    "        'Other': 0,\n",
    "        'No_CLNSIG': 0\n",
    "    }\n",
    "    \n",
    "    total_variants = 0\n",
    "    \n",
    "    for variant in vcf:\n",
    "        total_variants += 1\n",
    "        clnsig = variant.INFO.get('CLNSIG')\n",
    "        \n",
    "        if not clnsig:\n",
    "            counts['No_CLNSIG'] += 1\n",
    "            continue\n",
    "        \n",
    "        clnsig_str = str(clnsig)\n",
    "        classifications = clnsig_str.split('|') if '|' in clnsig_str else [clnsig_str]\n",
    "        \n",
    "        found = False\n",
    "        for classification in classifications:\n",
    "            classification = classification.strip()\n",
    "            if classification in counts:\n",
    "                counts[classification] += 1\n",
    "                found = True\n",
    "                break  # Take the first matching classification\n",
    "        \n",
    "        if not found:\n",
    "            counts['Other'] += 1\n",
    "    \n",
    "    vcf.close()\n",
    "    \n",
    "    print(\"MAIN CLINVAR CATEGORIES (SEPARATE)\")\n",
    "    print(\"=\" * 40)\n",
    "    print(f\"Total variants: {total_variants:,}\")\n",
    "    print(f\"With CLNSIG: {total_variants - counts['No_CLNSIG']:,}\")\n",
    "    print()\n",
    "    \n",
    "    for category in ['Benign', 'Likely_benign', 'Pathogenic', 'Likely_pathogenic', 'Uncertain_significance']:\n",
    "        count = counts[category]\n",
    "        percentage = (count / total_variants) * 100\n",
    "        print(f\"{category}: {count:,} ({percentage:.1f}%)\")\n",
    "    \n",
    "    if counts['Other'] > 0:\n",
    "        print(f\"Other classifications: {counts['Other']:,}\")\n",
    "    \n",
    "    print(f\"No CLNSIG: {counts['No_CLNSIG']:,}\")\n",
    "    \n",
    "    return counts\n"
   ]
  },
  {
   "cell_type": "code",
   "execution_count": 18,
   "id": "24471563-e21e-42d9-a06e-cb23488a24d9",
   "metadata": {
    "tags": []
   },
   "outputs": [
    {
     "name": "stdout",
     "output_type": "stream",
     "text": [
      "=== DETAILED BREAKDOWN ===\n",
      "DETAILED CLINVAR CATEGORY COUNTS\n",
      "==================================================\n",
      "Total variants: 3,689,385\n",
      "Variants with CLNSIG: 3,684,859\n",
      "Variants without CLNSIG: 4,526\n",
      "\n",
      "MAIN CLASSIFICATIONS:\n",
      "------------------------------\n",
      "Benign + Likely_benign: 1,206,906\n",
      "  Benign: 209,694\n",
      "  Likely_benign: 997,212\n",
      "Pathogenic + Likely_pathogenic: 280,717\n",
      "  Pathogenic: 175,304\n",
      "  Likely_pathogenic: 105,413\n",
      "Uncertain_significance: 1,940,523\n",
      "\n",
      "OTHER CLASSIFICATIONS:\n",
      "------------------------------\n",
      "Conflicting_interpretations: 150,101 (4.1%)\n",
      "Affects: 146 (0.0%)\n",
      "Other: 106,481 (2.9%)\n"
     ]
    }
   ],
   "source": [
    "# Usage examples:\n",
    "print(\"=== DETAILED BREAKDOWN ===\")\n",
    "detailed_counts = count_clinvar_categories_detailed(VCF_PATH)\n",
    "\n"
   ]
  },
  {
   "cell_type": "code",
   "execution_count": 19,
   "id": "0411c785-4e24-48ab-8549-8a9335203d08",
   "metadata": {
    "tags": []
   },
   "outputs": [
    {
     "name": "stdout",
     "output_type": "stream",
     "text": [
      "\n",
      "=== MAIN CATEGORIES SEPARATE ===\n",
      "MAIN CLINVAR CATEGORIES (SEPARATE)\n",
      "========================================\n",
      "Total variants: 3,689,385\n",
      "With CLNSIG: 3,684,859\n",
      "\n",
      "Benign: 209,694 (5.7%)\n",
      "Likely_benign: 997,212 (27.0%)\n",
      "Pathogenic: 175,304 (4.8%)\n",
      "Likely_pathogenic: 105,413 (2.9%)\n",
      "Uncertain_significance: 1,940,523 (52.6%)\n",
      "Other classifications: 256,713\n",
      "No CLNSIG: 4,526\n"
     ]
    }
   ],
   "source": [
    "print(\"\\n=== MAIN CATEGORIES SEPARATE ===\")\n",
    "main_counts = count_main_categories_separate(VCF_PATH)\n",
    "\n"
   ]
  },
  {
   "cell_type": "code",
   "execution_count": 20,
   "id": "f9e61cb3-a5d5-43b4-acc3-ed5e48fac884",
   "metadata": {
    "tags": []
   },
   "outputs": [
    {
     "name": "stdout",
     "output_type": "stream",
     "text": [
      "\n",
      "=== DISCOVER ALL VALUES ===\n",
      "ALL UNIQUE CLNSIG VALUES FOUND:\n",
      "========================================\n",
      "'Benign': 474 variants\n",
      "'Benign/Likely_benign': 117 variants\n",
      "'Conflicting_classifications_of_pathogenicity': 213 variants\n",
      "'Likely_benign': 3,073 variants\n",
      "'Likely_pathogenic': 106 variants\n",
      "'Pathogenic': 131 variants\n",
      "'Pathogenic/Likely_pathogenic': 29 variants\n",
      "'Uncertain_significance': 5,850 variants\n",
      "'no_classifications_from_unflagged_records': 1 variants\n",
      "'not_provided': 5 variants\n",
      "'risk_factor': 1 variants\n"
     ]
    }
   ],
   "source": [
    "print(\"\\n=== DISCOVER ALL VALUES ===\")\n",
    "unique_values, counter = discover_all_clnsig_values(VCF_PATH, max_variants=10000)"
   ]
  },
  {
   "cell_type": "code",
   "execution_count": 21,
   "id": "fc2738c4-1fe2-47d6-8883-2de21b8fe271",
   "metadata": {
    "tags": []
   },
   "outputs": [],
   "source": [
    "def check_vcf_chromosomes(vcf_path):\n",
    "    \"\"\"Check what chromosome naming convention the VCF uses\"\"\"\n",
    "    vcf = VCF(vcf_path)\n",
    "    \n",
    "    print(\"VCF CHROMOSOME NAMING\")\n",
    "    print(\"=\" * 40)\n",
    "    \n",
    "    chrom_counter = {}\n",
    "    \n",
    "    for i, variant in enumerate(vcf):\n",
    "        chrom = variant.CHROM\n",
    "        chrom_counter[chrom] = chrom_counter.get(chrom, 0) + 1\n",
    "        \n",
    "        if i >= 100:  # Check first 100 variants\n",
    "            break\n",
    "    \n",
    "    vcf.close()\n",
    "    \n",
    "    print(\"Chromosomes found in VCF (first 100 variants):\")\n",
    "    for chrom, count in chrom_counter.items():\n",
    "        print(f\"  '{chrom}': {count} variants\")\n",
    "    \n",
    "    return list(chrom_counter.keys())"
   ]
  },
  {
   "cell_type": "code",
   "execution_count": 22,
   "id": "e1d2122e-5b97-4783-8f6d-fe1657b315b1",
   "metadata": {
    "tags": []
   },
   "outputs": [
    {
     "data": {
      "text/plain": [
       "['1',\n",
       " '2',\n",
       " '3',\n",
       " '4',\n",
       " '5',\n",
       " '6',\n",
       " '7',\n",
       " '8',\n",
       " '9',\n",
       " '10',\n",
       " '11',\n",
       " '12',\n",
       " '13',\n",
       " '14',\n",
       " '15',\n",
       " '16',\n",
       " '17',\n",
       " '18',\n",
       " '19',\n",
       " '20',\n",
       " '21',\n",
       " '22',\n",
       " 'X',\n",
       " 'Y',\n",
       " 'MT',\n",
       " 'NT_113889.1',\n",
       " 'NT_187633.1',\n",
       " 'NT_187661.1',\n",
       " 'NT_187693.1',\n",
       " 'NW_009646201.1']"
      ]
     },
     "execution_count": 22,
     "metadata": {},
     "output_type": "execute_result"
    }
   ],
   "source": [
    "vcf.seqnames"
   ]
  },
  {
   "cell_type": "code",
   "execution_count": 23,
   "id": "bb0a5f2e-4eab-4c0f-98d3-bcd3bfd07172",
   "metadata": {
    "tags": []
   },
   "outputs": [
    {
     "name": "stdout",
     "output_type": "stream",
     "text": [
      "VCF CHROMOSOME NAMING\n",
      "========================================\n",
      "Chromosomes found in VCF (first 100 variants):\n",
      "  '1': 101 variants\n"
     ]
    }
   ],
   "source": [
    "vcf_chroms = check_vcf_chromosomes(VCF_PATH)"
   ]
  },
  {
   "cell_type": "markdown",
   "id": "7a570d78-448f-4d50-8959-06548b22c6fc",
   "metadata": {},
   "source": [
    "# Inspect data REF GENOME"
   ]
  },
  {
   "cell_type": "code",
   "execution_count": 24,
   "id": "f7b38d87-c1ec-4034-9aa6-9d7f0cdd477b",
   "metadata": {
    "tags": []
   },
   "outputs": [
    {
     "name": "stdout",
     "output_type": "stream",
     "text": [
      "REFERENCE GENOME INFO:\n",
      "========================================\n",
      "Number of chromosomes/contigs: 194\n",
      "Chromosome names: ['chr1', 'chr2', 'chr3', 'chr4', 'chr5', 'chr6', 'chr7', 'chr8', 'chr9', 'chr10']...\n",
      "\n",
      "CHROMOSOME LENGTHS:\n",
      "------------------------------\n",
      "Chromosome chr1: 248,956,422 bp\n",
      "Chromosome chr2: 242,193,529 bp\n",
      "Chromosome chr3: 198,295,559 bp\n",
      "Chromosome chrX: 156,040,895 bp\n",
      "Chromosome chrY: 57,227,415 bp\n",
      "\n",
      "SAMPLE SEQUENCE (first 100 bp of chr1):\n",
      "--------------------------------------------------\n",
      "GGGGAATGCCTCGATCTAACCAGTGAAGGTGTCAGTAAGCATTAGCAAATATTTGAATCTCCTGCAGAAAGGCTTCCGGGTAAATTAGAGTGGCCAGTTC\n"
     ]
    }
   ],
   "source": [
    "# Basic information\n",
    "print(\"REFERENCE GENOME INFO:\")\n",
    "print(\"=\" * 40)\n",
    "print(f\"Number of chromosomes/contigs: {len(ref_genome.keys())}\")\n",
    "print(f\"Chromosome names: {list(ref_genome.keys())[:10]}...\")  # First 10\n",
    "\n",
    "# Look at specific chromosomes\n",
    "print(\"\\nCHROMOSOME LENGTHS:\")\n",
    "print(\"-\" * 30)\n",
    "for chrom in ['chr1', 'chr2', 'chr3', 'chrX', 'chrY']:\n",
    "    if chrom in ref_genome:\n",
    "        print(f\"Chromosome {chrom}: {len(ref_genome[chrom]):,} bp\")\n",
    "\n",
    "# Examine sequence content\n",
    "print(\"\\nSAMPLE SEQUENCE (first 100 bp of chr1):\")\n",
    "print(\"-\" * 50)\n",
    "if 'chr10' in ref_genome: #see sample chromosome\n",
    "    sample_seq = ref_genome['chr10'][50000:50100]\n",
    "    print(sample_seq)\n"
   ]
  },
  {
   "cell_type": "code",
   "execution_count": 25,
   "id": "7eed88cd-af68-4190-bd0f-689cea0bddf5",
   "metadata": {
    "tags": []
   },
   "outputs": [
    {
     "data": {
      "text/plain": [
       "<cyvcf2.cyvcf2.VCF at 0x7f3bc39f32e0>"
      ]
     },
     "execution_count": 25,
     "metadata": {},
     "output_type": "execute_result"
    }
   ],
   "source": [
    "vcf"
   ]
  },
  {
   "cell_type": "markdown",
   "id": "9e52385d-0234-4cba-91b2-0cc6f8af8316",
   "metadata": {},
   "source": [
    "# Link ref genome with VCF"
   ]
  },
  {
   "cell_type": "code",
   "execution_count": 26,
   "id": "32d3d0de-9edc-49cb-b19e-22ad1dfa5757",
   "metadata": {
    "tags": []
   },
   "outputs": [],
   "source": [
    "def debug_vcf_alt_issues(vcf_path, max_variants=5000):\n",
    "    \"\"\"Debug ALT field issues in the VCF\"\"\"\n",
    "    vcf = VCF(vcf_path)\n",
    "    \n",
    "    print(\"DEBUGGING VCF ALT FIELDS:\")\n",
    "    print(\"=\" * 40)\n",
    "    \n",
    "    alt_issues = 0\n",
    "    for i, variant in enumerate(vcf):\n",
    "        if i >= max_variants:\n",
    "            break\n",
    "            \n",
    "        if not variant.ALT or len(variant.ALT) == 0:\n",
    "            alt_issues += 1\n",
    "            print(f\"Variant with no ALT: {variant.CHROM}:{variant.POS}\")\n",
    "            print(f\"  REF: '{variant.REF}'\")\n",
    "            print(f\"  ALT: {variant.ALT}\")\n",
    "            print(f\"  ID: {variant.ID}\")\n",
    "            print(f\"  FILTER: {variant.FILTER}\")\n",
    "            print()\n",
    "    \n",
    "    vcf.close()\n",
    "    \n",
    "    if alt_issues == 0:\n",
    "        print(\"No ALT issues found in first {max_variants} variants\")\n",
    "    else:\n",
    "        print(f\"Found {alt_issues} variants with ALT issues\")"
   ]
  },
  {
   "cell_type": "code",
   "execution_count": 27,
   "id": "b5299e9f-065c-4db8-a927-ae7a4448d0c4",
   "metadata": {
    "tags": []
   },
   "outputs": [
    {
     "name": "stdout",
     "output_type": "stream",
     "text": [
      "DEBUGGING VCF ALT FIELDS:\n",
      "========================================\n",
      "Variant with no ALT: 1:942451\n",
      "  REF: 'T'\n",
      "  ALT: []\n",
      "  ID: 836156\n",
      "  FILTER: None\n",
      "\n",
      "Found 1 variants with ALT issues\n"
     ]
    }
   ],
   "source": [
    "debug_vcf_alt_issues(VCF_PATH) # some varinat in ALT not provided"
   ]
  },
  {
   "cell_type": "code",
   "execution_count": null,
   "id": "c0212eb9-7603-445f-aed8-5e4795230b29",
   "metadata": {},
   "outputs": [],
   "source": []
  },
  {
   "cell_type": "code",
   "execution_count": 28,
   "id": "8c4f3393-9f89-4ff8-959c-5ffb7a3b3ac0",
   "metadata": {
    "tags": []
   },
   "outputs": [],
   "source": [
    "def get_variant_sequences_robust(vcf_path, ref_genome, window_size=10, max_variants=1000):\n",
    "    \n",
    "    variant_sequences = []\n",
    "    stats = {\n",
    "        'total_processed': 0,\n",
    "        'no_alt': 0,\n",
    "        'non_snv': 0,\n",
    "        'chrom_not_found': 0,\n",
    "        'position_oob': 0,\n",
    "        'ref_mismatch': 0,\n",
    "        'other_errors': 0\n",
    "    }\n",
    "    \n",
    "    for i, variant in enumerate(vcf):\n",
    "        if i >= max_variants:\n",
    "            break\n",
    "            \n",
    "        stats['total_processed'] += 1\n",
    "        \n",
    "        try:\n",
    "            # Check ALT alleles\n",
    "            if not variant.ALT:\n",
    "                stats['no_alt'] += 1\n",
    "                continue\n",
    "                \n",
    "            # Check if ALT is a list with actual values\n",
    "            if len(variant.ALT) == 0 or variant.ALT[0] is None:\n",
    "                stats['no_alt'] += 1\n",
    "                continue\n",
    "            \n",
    "            # Only process SNVs\n",
    "            if len(variant.REF) != 1:\n",
    "                stats['non_snv'] += 1\n",
    "                continue\n",
    "                \n",
    "            if any(alt is None or len(alt) != 1 for alt in variant.ALT):\n",
    "                stats['non_snv'] += 1\n",
    "                continue\n",
    "            \n",
    "            # Map chromosome\n",
    "            vcf_chrom = variant.CHROM\n",
    "            ref_chrom = f'chr{vcf_chrom}' if vcf_chrom != 'MT' else 'chrM'\n",
    "            \n",
    "            if ref_chrom not in ref_genome:\n",
    "                stats['chrom_not_found'] += 1\n",
    "                continue\n",
    "            \n",
    "            # Check position\n",
    "            pos = variant.POS - 1\n",
    "            if pos < 0 or pos >= len(ref_genome[ref_chrom]):\n",
    "                stats['position_oob'] += 1\n",
    "                continue\n",
    "            \n",
    "            # Get reference base and verify\n",
    "            ref_base = ref_genome[ref_chrom][pos:pos+1].seq\n",
    "            if ref_base != variant.REF:\n",
    "                stats['ref_mismatch'] += 1\n",
    "                continue\n",
    "            \n",
    "            # Extract sequence\n",
    "            start = max(0, pos - window_size)\n",
    "            end = min(len(ref_genome[ref_chrom]), pos + window_size + 1)\n",
    "            ref_sequence = ref_genome[ref_chrom][start:end].seq\n",
    "            \n",
    "            variant_data = {\n",
    "                'chrom': vcf_chrom,\n",
    "                'pos': variant.POS,\n",
    "                'ref': variant.REF,\n",
    "                'alt': variant.ALT[0],\n",
    "                'clnsig': variant.INFO.get('CLNSIG'),\n",
    "                'ref_sequence': ref_sequence,\n",
    "                'variant_position': pos - start,\n",
    "                'window_start': start + 1,\n",
    "                'window_end': end\n",
    "            }\n",
    "            \n",
    "            variant_sequences.append(variant_data)\n",
    "            \n",
    "        except Exception as e:\n",
    "            stats['other_errors'] += 1\n",
    "            if stats['other_errors'] <= 3:\n",
    "                print(f\"Unexpected error at {variant.CHROM}:{variant.POS}: {e}\")\n",
    "            continue\n",
    "    \n",
    "    vcf.close()\n",
    "    \n",
    "    # Print statistics\n",
    "    print(\"PROCESSING STATISTICS:\")\n",
    "    print(f\"Total variants processed: {stats['total_processed']}\")\n",
    "    print(f\"Successfully extracted: {len(variant_sequences)}\")\n",
    "    print(f\"No ALT alleles: {stats['no_alt']}\")\n",
    "    print(f\"Non-SNV variants: {stats['non_snv']}\")\n",
    "    print(f\"Chromosome not found: {stats['chrom_not_found']}\")\n",
    "    print(f\"Position out of bounds: {stats['position_oob']}\")\n",
    "    print(f\"Reference mismatches: {stats['ref_mismatch']}\")\n",
    "    print(f\"Other errors: {stats['other_errors']}\")\n",
    "    \n",
    "    return variant_sequences\n",
    "\n"
   ]
  },
  {
   "cell_type": "code",
   "execution_count": 29,
   "id": "4c3d9fb4-c184-4d01-a9ac-0c5cf58f55e1",
   "metadata": {
    "tags": []
   },
   "outputs": [
    {
     "name": "stdout",
     "output_type": "stream",
     "text": [
      "PROCESSING STATISTICS:\n",
      "Total variants processed: 1000\n",
      "Successfully extracted: 922\n",
      "No ALT alleles: 1\n",
      "Non-SNV variants: 77\n",
      "Chromosome not found: 0\n",
      "Position out of bounds: 0\n",
      "Reference mismatches: 0\n",
      "Other errors: 0\n"
     ]
    }
   ],
   "source": [
    "\n",
    "sequences = get_variant_sequences_robust(VCF_PATH, ref_genome)"
   ]
  },
  {
   "cell_type": "code",
   "execution_count": 30,
   "id": "5fe10132-df64-4e4d-9784-de06e4c9e492",
   "metadata": {
    "tags": []
   },
   "outputs": [
    {
     "data": {
      "text/plain": [
       "[{'chrom': '1',\n",
       "  'pos': 69134,\n",
       "  'ref': 'A',\n",
       "  'alt': 'G',\n",
       "  'clnsig': 'Likely_benign',\n",
       "  'ref_sequence': 'GATTCTCAGGAACTCCAGACC',\n",
       "  'variant_position': 10,\n",
       "  'window_start': 69124,\n",
       "  'window_end': 69144},\n",
       " {'chrom': '1',\n",
       "  'pos': 69308,\n",
       "  'ref': 'A',\n",
       "  'alt': 'G',\n",
       "  'clnsig': 'Uncertain_significance',\n",
       "  'ref_sequence': 'ACAGCCCCCAAGATGATTACT',\n",
       "  'variant_position': 10,\n",
       "  'window_start': 69298,\n",
       "  'window_end': 69318}]"
      ]
     },
     "execution_count": 30,
     "metadata": {},
     "output_type": "execute_result"
    }
   ],
   "source": [
    "sequences[:2]"
   ]
  },
  {
   "cell_type": "code",
   "execution_count": null,
   "id": "09d95c9a-2b36-4708-b4cc-969627ac57ac",
   "metadata": {},
   "outputs": [],
   "source": []
  }
 ],
 "metadata": {
  "environment": {
   "kernel": "conda-base-py",
   "name": "workbench-notebooks.m133",
   "type": "gcloud",
   "uri": "us-docker.pkg.dev/deeplearning-platform-release/gcr.io/workbench-notebooks:m133"
  },
  "kernelspec": {
   "display_name": "Python 3 (ipykernel) (Local)",
   "language": "python",
   "name": "conda-base-py"
  },
  "language_info": {
   "codemirror_mode": {
    "name": "ipython",
    "version": 3
   },
   "file_extension": ".py",
   "mimetype": "text/x-python",
   "name": "python",
   "nbconvert_exporter": "python",
   "pygments_lexer": "ipython3",
   "version": "3.10.18"
  }
 },
 "nbformat": 4,
 "nbformat_minor": 5
}
